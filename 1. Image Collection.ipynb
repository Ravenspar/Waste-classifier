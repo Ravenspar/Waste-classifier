{
 "cells": [
  {
   "cell_type": "markdown",
   "metadata": {},
   "source": [
    "# 1. Import Dependencies"
   ]
  },
  {
   "cell_type": "code",
   "execution_count": 1,
   "metadata": {},
   "outputs": [
    {
     "name": "stdout",
     "output_type": "stream",
     "text": [
      "Requirement already satisfied: opencv-python in c:\\users\\tanma\\me\\myfiles\\projects\\object detection\\tfodcourse\\venv\\lib\\site-packages (4.8.1.78)\n",
      "Requirement already satisfied: numpy>=1.21.2 in c:\\users\\tanma\\me\\myfiles\\projects\\object detection\\tfodcourse\\venv\\lib\\site-packages (from opencv-python) (1.26.0)\n"
     ]
    }
   ],
   "source": [
    "!pip install opencv-python"
   ]
  },
  {
   "cell_type": "code",
   "execution_count": 1,
   "metadata": {},
   "outputs": [],
   "source": [
    "# Import opencv\n",
    "import cv2 \n",
    "\n",
    "# Import uuid\n",
    "import uuid\n",
    "\n",
    "# Import Operating System\n",
    "import os\n",
    "\n",
    "# Import time\n",
    "import time"
   ]
  },
  {
   "cell_type": "markdown",
   "metadata": {},
   "source": [
    "# 2. Define Images to Collect"
   ]
  },
  {
   "cell_type": "code",
   "execution_count": 11,
   "metadata": {},
   "outputs": [],
   "source": [
    "#labels = ['metal','plastic','Ewaste']\n",
    "labels = ['cardboard']\n",
    "number_imgs = 10"
   ]
  },
  {
   "cell_type": "markdown",
   "metadata": {},
   "source": [
    "# 3. Setup Folders "
   ]
  },
  {
   "cell_type": "code",
   "execution_count": 12,
   "metadata": {},
   "outputs": [],
   "source": [
    "IMAGES_PATH = os.path.join('Tensorflow', 'workspace', 'images', 'collectedimages')"
   ]
  },
  {
   "cell_type": "code",
   "execution_count": 13,
   "metadata": {},
   "outputs": [],
   "source": [
    "if not os.path.exists(IMAGES_PATH):\n",
    "    if os.name == 'posix':\n",
    "        !mkdir -p {IMAGES_PATH}\n",
    "    if os.name == 'nt':\n",
    "         !mkdir {IMAGES_PATH}\n",
    "for label in labels:\n",
    "    path = os.path.join(IMAGES_PATH, label)\n",
    "    if not os.path.exists(path):\n",
    "        !mkdir {path}"
   ]
  },
  {
   "cell_type": "markdown",
   "metadata": {},
   "source": [
    "### 4. Capture Images"
   ]
  },
  {
   "cell_type": "code",
   "execution_count": 14,
   "metadata": {},
   "outputs": [
    {
     "name": "stdout",
     "output_type": "stream",
     "text": [
      "Collecting images for cardboard\n",
      "Collecting image 0\n",
      "Collecting image 1\n",
      "Collecting image 2\n",
      "Collecting image 3\n",
      "Collecting image 4\n",
      "Collecting image 5\n",
      "Collecting image 6\n",
      "Collecting image 7\n",
      "Collecting image 8\n",
      "Collecting image 9\n"
     ]
    }
   ],
   "source": [
    "for label in labels:\n",
    "    cap = cv2.VideoCapture(0)\n",
    "    print('Collecting images for {}'.format(label))\n",
    "    time.sleep(3)\n",
    "    for imgnum in range(number_imgs):\n",
    "        print('Collecting image {}'.format(imgnum))\n",
    "        ret, frame = cap.read()\n",
    "        imgname = os.path.join(IMAGES_PATH,label,label+'.'+'{}.jpg'.format(str(uuid.uuid1())))\n",
    "        cv2.imwrite(imgname, frame)\n",
    "        cv2.imshow('frame', frame)\n",
    "        time.sleep(2)\n",
    "\n",
    "        if cv2.waitKey(1) & 0xFF == ord('q'):\n",
    "            break\n",
    "cap.release()\n",
    "cv2.destroyAllWindows()"
   ]
  },
  {
   "cell_type": "markdown",
   "metadata": {},
   "source": [
    "## 5. Image Labelling"
   ]
  },
  {
   "cell_type": "code",
   "execution_count": 15,
   "metadata": {},
   "outputs": [
    {
     "name": "stdout",
     "output_type": "stream",
     "text": [
      "Requirement already satisfied: pyqt5 in c:\\users\\tanma\\me\\myfiles\\projects\\object detection\\tfodcourse\\venv\\lib\\site-packages (5.15.10)\n",
      "Requirement already satisfied: lxml in c:\\users\\tanma\\me\\myfiles\\projects\\object detection\\tfodcourse\\venv\\lib\\site-packages (4.9.3)\n",
      "Requirement already satisfied: PyQt5-sip<13,>=12.13 in c:\\users\\tanma\\me\\myfiles\\projects\\object detection\\tfodcourse\\venv\\lib\\site-packages (from pyqt5) (12.13.0)\n",
      "Requirement already satisfied: PyQt5-Qt5>=5.15.2 in c:\\users\\tanma\\me\\myfiles\\projects\\object detection\\tfodcourse\\venv\\lib\\site-packages (from pyqt5) (5.15.2)\n"
     ]
    },
    {
     "name": "stderr",
     "output_type": "stream",
     "text": [
      "DEPRECATION: Loading egg at c:\\users\\tanma\\me\\myfiles\\projects\\object detection\\tfodcourse\\venv\\lib\\site-packages\\apache_beam-2.51.0-py3.11-win-amd64.egg is deprecated. pip 23.3 will enforce this behaviour change. A possible replacement is to use pip for package installation..\n",
      "DEPRECATION: Loading egg at c:\\users\\tanma\\me\\myfiles\\projects\\object detection\\tfodcourse\\venv\\lib\\site-packages\\avro_python3-1.10.2-py3.11.egg is deprecated. pip 23.3 will enforce this behaviour change. A possible replacement is to use pip for package installation..\n",
      "DEPRECATION: Loading egg at c:\\users\\tanma\\me\\myfiles\\projects\\object detection\\tfodcourse\\venv\\lib\\site-packages\\contextlib2-21.6.0-py3.11.egg is deprecated. pip 23.3 will enforce this behaviour change. A possible replacement is to use pip for package installation..\n",
      "DEPRECATION: Loading egg at c:\\users\\tanma\\me\\myfiles\\projects\\object detection\\tfodcourse\\venv\\lib\\site-packages\\cython-3.0.3-py3.11.egg is deprecated. pip 23.3 will enforce this behaviour change. A possible replacement is to use pip for package installation..\n",
      "DEPRECATION: Loading egg at c:\\users\\tanma\\me\\myfiles\\projects\\object detection\\tfodcourse\\venv\\lib\\site-packages\\lvis-0.5.3-py3.11.egg is deprecated. pip 23.3 will enforce this behaviour change. A possible replacement is to use pip for package installation..\n",
      "DEPRECATION: Loading egg at c:\\users\\tanma\\me\\myfiles\\projects\\object detection\\tfodcourse\\venv\\lib\\site-packages\\object_detection-0.1-py3.11.egg is deprecated. pip 23.3 will enforce this behaviour change. A possible replacement is to use pip for package installation..\n",
      "DEPRECATION: Loading egg at c:\\users\\tanma\\me\\myfiles\\projects\\object detection\\tfodcourse\\venv\\lib\\site-packages\\pandas-2.1.1-py3.11-win-amd64.egg is deprecated. pip 23.3 will enforce this behaviour change. A possible replacement is to use pip for package installation..\n",
      "DEPRECATION: Loading egg at c:\\users\\tanma\\me\\myfiles\\projects\\object detection\\tfodcourse\\venv\\lib\\site-packages\\pillow-10.0.1-py3.11-win-amd64.egg is deprecated. pip 23.3 will enforce this behaviour change. A possible replacement is to use pip for package installation..\n",
      "DEPRECATION: Loading egg at c:\\users\\tanma\\me\\myfiles\\projects\\object detection\\tfodcourse\\venv\\lib\\site-packages\\portalocker-2.8.2-py3.11.egg is deprecated. pip 23.3 will enforce this behaviour change. A possible replacement is to use pip for package installation..\n",
      "DEPRECATION: Loading egg at c:\\users\\tanma\\me\\myfiles\\projects\\object detection\\tfodcourse\\venv\\lib\\site-packages\\pycocotools-2.0.7-py3.11-win-amd64.egg is deprecated. pip 23.3 will enforce this behaviour change. A possible replacement is to use pip for package installation..\n",
      "DEPRECATION: Loading egg at c:\\users\\tanma\\me\\myfiles\\projects\\object detection\\tfodcourse\\venv\\lib\\site-packages\\pyparsing-2.4.7-py3.11.egg is deprecated. pip 23.3 will enforce this behaviour change. A possible replacement is to use pip for package installation..\n",
      "DEPRECATION: Loading egg at c:\\users\\tanma\\me\\myfiles\\projects\\object detection\\tfodcourse\\venv\\lib\\site-packages\\regex-2023.10.3-py3.11-win-amd64.egg is deprecated. pip 23.3 will enforce this behaviour change. A possible replacement is to use pip for package installation..\n",
      "DEPRECATION: Loading egg at c:\\users\\tanma\\me\\myfiles\\projects\\object detection\\tfodcourse\\venv\\lib\\site-packages\\sacrebleu-2.2.0-py3.11.egg is deprecated. pip 23.3 will enforce this behaviour change. A possible replacement is to use pip for package installation..\n",
      "DEPRECATION: Loading egg at c:\\users\\tanma\\me\\myfiles\\projects\\object detection\\tfodcourse\\venv\\lib\\site-packages\\scipy-1.11.3-py3.11-win-amd64.egg is deprecated. pip 23.3 will enforce this behaviour change. A possible replacement is to use pip for package installation..\n",
      "DEPRECATION: Loading egg at c:\\users\\tanma\\me\\myfiles\\projects\\object detection\\tfodcourse\\venv\\lib\\site-packages\\tabulate-0.9.0-py3.11.egg is deprecated. pip 23.3 will enforce this behaviour change. A possible replacement is to use pip for package installation..\n",
      "DEPRECATION: Loading egg at c:\\users\\tanma\\me\\myfiles\\projects\\object detection\\tfodcourse\\venv\\lib\\site-packages\\tensorflow_io-0.31.0-py3.11-win-amd64.egg is deprecated. pip 23.3 will enforce this behaviour change. A possible replacement is to use pip for package installation..\n",
      "DEPRECATION: Loading egg at c:\\users\\tanma\\me\\myfiles\\projects\\object detection\\tfodcourse\\venv\\lib\\site-packages\\tensorflow_io_gcs_filesystem-0.31.0-py3.11-win-amd64.egg is deprecated. pip 23.3 will enforce this behaviour change. A possible replacement is to use pip for package installation..\n",
      "DEPRECATION: Loading egg at c:\\users\\tanma\\me\\myfiles\\projects\\object detection\\tfodcourse\\venv\\lib\\site-packages\\tf_models_official-2.14.1-py3.11.egg is deprecated. pip 23.3 will enforce this behaviour change. A possible replacement is to use pip for package installation..\n",
      "DEPRECATION: Loading egg at c:\\users\\tanma\\me\\myfiles\\projects\\object detection\\tfodcourse\\venv\\lib\\site-packages\\tf_slim-1.1.0-py3.11.egg is deprecated. pip 23.3 will enforce this behaviour change. A possible replacement is to use pip for package installation..\n"
     ]
    }
   ],
   "source": [
    "!pip install --upgrade pyqt5 lxml"
   ]
  },
  {
   "cell_type": "code",
   "execution_count": 16,
   "metadata": {},
   "outputs": [],
   "source": [
    "LABELIMG_PATH = os.path.join('Tensorflow', 'labelimg')"
   ]
  },
  {
   "cell_type": "code",
   "execution_count": 17,
   "metadata": {},
   "outputs": [],
   "source": [
    "if not os.path.exists(LABELIMG_PATH):\n",
    "    !mkdir {LABELIMG_PATH}\n",
    "    !git clone https://github.com/tzutalin/labelImg {LABELIMG_PATH}"
   ]
  },
  {
   "cell_type": "code",
   "execution_count": 18,
   "metadata": {},
   "outputs": [],
   "source": [
    "if os.name == 'posix':\n",
    "    !make qt5py3\n",
    "if os.name =='nt':\n",
    "    !cd {LABELIMG_PATH} && pyrcc5 -o libs/resources.py resources.qrc"
   ]
  },
  {
   "cell_type": "code",
   "execution_count": 19,
   "metadata": {},
   "outputs": [
    {
     "name": "stdout",
     "output_type": "stream",
     "text": [
      "Image:C:\\Users\\tanma\\Me\\MyFiles\\Projects\\Object Detection\\TFODCourse\\Tensorflow\\workspace\\images\\collectedimages\\metal\\metal.001abd86-6b68-11ee-821f-0093378aa2d3.jpg -> Annotation:C:/Users/tanma/Me/MyFiles/Projects/Object Detection/TFODCourse/Tensorflow/workspace/images/collectedimages/metal\\metal.001abd86-6b68-11ee-821f-0093378aa2d3.xml\n",
      "Image:C:\\Users\\tanma\\Me\\MyFiles\\Projects\\Object Detection\\TFODCourse\\Tensorflow\\workspace\\images\\collectedimages\\metal\\metal.03b4290f-6b68-11ee-bd14-0093378aa2d3.jpg -> Annotation:C:/Users/tanma/Me/MyFiles/Projects/Object Detection/TFODCourse/Tensorflow/workspace/images/collectedimages/metal\\metal.03b4290f-6b68-11ee-bd14-0093378aa2d3.xml\n",
      "Image:C:\\Users\\tanma\\Me\\MyFiles\\Projects\\Object Detection\\TFODCourse\\Tensorflow\\workspace\\images\\collectedimages\\metal\\metal.04e74f5f-6b68-11ee-83b3-0093378aa2d3.jpg -> Annotation:C:/Users/tanma/Me/MyFiles/Projects/Object Detection/TFODCourse/Tensorflow/workspace/images/collectedimages/metal\\metal.04e74f5f-6b68-11ee-83b3-0093378aa2d3.xml\n",
      "Image:C:\\Users\\tanma\\Me\\MyFiles\\Projects\\Object Detection\\TFODCourse\\Tensorflow\\workspace\\images\\collectedimages\\metal\\metal.014ebd0a-6b68-11ee-a1ee-0093378aa2d3.jpg -> Annotation:C:/Users/tanma/Me/MyFiles/Projects/Object Detection/TFODCourse/Tensorflow/workspace/images/collectedimages/metal\\metal.014ebd0a-6b68-11ee-a1ee-0093378aa2d3.xml\n",
      "Image:C:\\Users\\tanma\\Me\\MyFiles\\Projects\\Object Detection\\TFODCourse\\Tensorflow\\workspace\\images\\collectedimages\\metal\\metal.061a551e-6b68-11ee-ae87-0093378aa2d3.jpg -> Annotation:C:/Users/tanma/Me/MyFiles/Projects/Object Detection/TFODCourse/Tensorflow/workspace/images/collectedimages/metal\\metal.061a551e-6b68-11ee-ae87-0093378aa2d3.xml\n",
      "Cancel creation.\n",
      "Image:C:\\Users\\tanma\\Me\\MyFiles\\Projects\\Object Detection\\TFODCourse\\Tensorflow\\workspace\\images\\collectedimages\\metal\\metal.074d2f5e-6b68-11ee-868a-0093378aa2d3.jpg -> Annotation:C:/Users/tanma/Me/MyFiles/Projects/Object Detection/TFODCourse/Tensorflow/workspace/images/collectedimages/metal\\metal.074d2f5e-6b68-11ee-868a-0093378aa2d3.xml\n",
      "Image:C:\\Users\\tanma\\Me\\MyFiles\\Projects\\Object Detection\\TFODCourse\\Tensorflow\\workspace\\images\\collectedimages\\metal\\metal.02817a1f-6b68-11ee-8ea9-0093378aa2d3.jpg -> Annotation:C:/Users/tanma/Me/MyFiles/Projects/Object Detection/TFODCourse/Tensorflow/workspace/images/collectedimages/metal\\metal.02817a1f-6b68-11ee-8ea9-0093378aa2d3.xml\n",
      "Image:C:\\Users\\tanma\\Me\\MyFiles\\Projects\\Object Detection\\TFODCourse\\Tensorflow\\workspace\\images\\collectedimages\\metal\\metal.fc81d418-6b67-11ee-8f4c-0093378aa2d3.jpg -> Annotation:C:/Users/tanma/Me/MyFiles/Projects/Object Detection/TFODCourse/Tensorflow/workspace/images/collectedimages/metal\\metal.fc81d418-6b67-11ee-8f4c-0093378aa2d3.xml\n",
      "Image:C:\\Users\\tanma\\Me\\MyFiles\\Projects\\Object Detection\\TFODCourse\\Tensorflow\\workspace\\images\\collectedimages\\metal\\metal.fdb61699-6b67-11ee-bbee-0093378aa2d3.jpg -> Annotation:C:/Users/tanma/Me/MyFiles/Projects/Object Detection/TFODCourse/Tensorflow/workspace/images/collectedimages/metal\\metal.fdb61699-6b67-11ee-bbee-0093378aa2d3.xml\n",
      "Image:C:\\Users\\tanma\\Me\\MyFiles\\Projects\\Object Detection\\TFODCourse\\Tensorflow\\workspace\\images\\collectedimages\\metal\\metal.fee88cbb-6b67-11ee-abe7-0093378aa2d3.jpg -> Annotation:C:/Users/tanma/Me/MyFiles/Projects/Object Detection/TFODCourse/Tensorflow/workspace/images/collectedimages/metal\\metal.fee88cbb-6b67-11ee-abe7-0093378aa2d3.xml\n",
      "Image:C:\\Users\\tanma\\Me\\MyFiles\\Projects\\Object Detection\\TFODCourse\\Tensorflow\\workspace\\images\\collectedimages\\plastic\\plastic.0ba742d3-6b68-11ee-902d-0093378aa2d3.jpg -> Annotation:C:/Users/tanma/Me/MyFiles/Projects/Object Detection/TFODCourse/Tensorflow/workspace/images/collectedimages/plastic\\plastic.0ba742d3-6b68-11ee-902d-0093378aa2d3.xml\n",
      "Image:C:\\Users\\tanma\\Me\\MyFiles\\Projects\\Object Detection\\TFODCourse\\Tensorflow\\workspace\\images\\collectedimages\\plastic\\plastic.0cda4fc1-6b68-11ee-b87c-0093378aa2d3.jpg -> Annotation:C:/Users/tanma/Me/MyFiles/Projects/Object Detection/TFODCourse/Tensorflow/workspace/images/collectedimages/plastic\\plastic.0cda4fc1-6b68-11ee-b87c-0093378aa2d3.xml\n",
      "Image:C:\\Users\\tanma\\Me\\MyFiles\\Projects\\Object Detection\\TFODCourse\\Tensorflow\\workspace\\images\\collectedimages\\plastic\\plastic.0e0d8384-6b68-11ee-ba70-0093378aa2d3.jpg -> Annotation:C:/Users/tanma/Me/MyFiles/Projects/Object Detection/TFODCourse/Tensorflow/workspace/images/collectedimages/plastic\\plastic.0e0d8384-6b68-11ee-ba70-0093378aa2d3.xml\n",
      "Image:C:\\Users\\tanma\\Me\\MyFiles\\Projects\\Object Detection\\TFODCourse\\Tensorflow\\workspace\\images\\collectedimages\\plastic\\plastic.0f427205-6b68-11ee-aa20-0093378aa2d3.jpg -> Annotation:C:/Users/tanma/Me/MyFiles/Projects/Object Detection/TFODCourse/Tensorflow/workspace/images/collectedimages/plastic\\plastic.0f427205-6b68-11ee-aa20-0093378aa2d3.xml\n",
      "Image:C:\\Users\\tanma\\Me\\MyFiles\\Projects\\Object Detection\\TFODCourse\\Tensorflow\\workspace\\images\\collectedimages\\plastic\\plastic.11a80fdf-6b68-11ee-9091-0093378aa2d3.jpg -> Annotation:C:/Users/tanma/Me/MyFiles/Projects/Object Detection/TFODCourse/Tensorflow/workspace/images/collectedimages/plastic\\plastic.11a80fdf-6b68-11ee-9091-0093378aa2d3.xml\n",
      "Image:C:\\Users\\tanma\\Me\\MyFiles\\Projects\\Object Detection\\TFODCourse\\Tensorflow\\workspace\\images\\collectedimages\\plastic\\plastic.12da5208-6b68-11ee-a77f-0093378aa2d3.jpg -> Annotation:C:/Users/tanma/Me/MyFiles/Projects/Object Detection/TFODCourse/Tensorflow/workspace/images/collectedimages/plastic\\plastic.12da5208-6b68-11ee-a77f-0093378aa2d3.xml\n",
      "Image:C:\\Users\\tanma\\Me\\MyFiles\\Projects\\Object Detection\\TFODCourse\\Tensorflow\\workspace\\images\\collectedimages\\plastic\\plastic.140d251d-6b68-11ee-9ec1-0093378aa2d3.jpg -> Annotation:C:/Users/tanma/Me/MyFiles/Projects/Object Detection/TFODCourse/Tensorflow/workspace/images/collectedimages/plastic\\plastic.140d251d-6b68-11ee-9ec1-0093378aa2d3.xml\n",
      "Image:C:\\Users\\tanma\\Me\\MyFiles\\Projects\\Object Detection\\TFODCourse\\Tensorflow\\workspace\\images\\collectedimages\\plastic\\plastic.1540bce8-6b68-11ee-a78e-0093378aa2d3.jpg -> Annotation:C:/Users/tanma/Me/MyFiles/Projects/Object Detection/TFODCourse/Tensorflow/workspace/images/collectedimages/plastic\\plastic.1540bce8-6b68-11ee-a78e-0093378aa2d3.xml\n",
      "Image:C:\\Users\\tanma\\Me\\MyFiles\\Projects\\Object Detection\\TFODCourse\\Tensorflow\\workspace\\images\\collectedimages\\plastic\\plastic.1673e444-6b68-11ee-b433-0093378aa2d3.jpg -> Annotation:C:/Users/tanma/Me/MyFiles/Projects/Object Detection/TFODCourse/Tensorflow/workspace/images/collectedimages/plastic\\plastic.1673e444-6b68-11ee-b433-0093378aa2d3.xml\n",
      "Image:C:\\Users\\tanma\\Me\\MyFiles\\Projects\\Object Detection\\TFODCourse\\Tensorflow\\workspace\\images\\collectedimages\\plastic\\plastic.1075580f-6b68-11ee-9c6a-0093378aa2d3.jpg -> Annotation:C:/Users/tanma/Me/MyFiles/Projects/Object Detection/TFODCourse/Tensorflow/workspace/images/collectedimages/plastic\\plastic.1075580f-6b68-11ee-9c6a-0093378aa2d3.xml\n",
      "Image:C:\\Users\\tanma\\Me\\MyFiles\\Projects\\Object Detection\\TFODCourse\\Tensorflow\\workspace\\images\\collectedimages\\cardboard\\cardboard.3e428de4-6b69-11ee-943f-0093378aa2d3.jpg -> Annotation:C:/Users/tanma/Me/MyFiles/Projects/Object Detection/TFODCourse/Tensorflow/workspace/images/collectedimages/cardboard\\cardboard.3e428de4-6b69-11ee-943f-0093378aa2d3.xml\n",
      "Image:C:\\Users\\tanma\\Me\\MyFiles\\Projects\\Object Detection\\TFODCourse\\Tensorflow\\workspace\\images\\collectedimages\\cardboard\\cardboard.3f767fd8-6b69-11ee-b2ac-0093378aa2d3.jpg -> Annotation:C:/Users/tanma/Me/MyFiles/Projects/Object Detection/TFODCourse/Tensorflow/workspace/images/collectedimages/cardboard\\cardboard.3f767fd8-6b69-11ee-b2ac-0093378aa2d3.xml\n",
      "Image:C:\\Users\\tanma\\Me\\MyFiles\\Projects\\Object Detection\\TFODCourse\\Tensorflow\\workspace\\images\\collectedimages\\cardboard\\cardboard.40ab0370-6b69-11ee-881e-0093378aa2d3.jpg -> Annotation:C:/Users/tanma/Me/MyFiles/Projects/Object Detection/TFODCourse/Tensorflow/workspace/images/collectedimages/cardboard\\cardboard.40ab0370-6b69-11ee-881e-0093378aa2d3.xml\n",
      "Image:C:\\Users\\tanma\\Me\\MyFiles\\Projects\\Object Detection\\TFODCourse\\Tensorflow\\workspace\\images\\collectedimages\\cardboard\\cardboard.41ddde83-6b69-11ee-907a-0093378aa2d3.jpg -> Annotation:C:/Users/tanma/Me/MyFiles/Projects/Object Detection/TFODCourse/Tensorflow/workspace/images/collectedimages/cardboard\\cardboard.41ddde83-6b69-11ee-907a-0093378aa2d3.xml\n",
      "Image:C:\\Users\\tanma\\Me\\MyFiles\\Projects\\Object Detection\\TFODCourse\\Tensorflow\\workspace\\images\\collectedimages\\cardboard\\cardboard.46a9beeb-6b69-11ee-a1e8-0093378aa2d3.jpg -> Annotation:C:/Users/tanma/Me/MyFiles/Projects/Object Detection/TFODCourse/Tensorflow/workspace/images/collectedimages/cardboard\\cardboard.46a9beeb-6b69-11ee-a1e8-0093378aa2d3.xml\n",
      "Image:C:\\Users\\tanma\\Me\\MyFiles\\Projects\\Object Detection\\TFODCourse\\Tensorflow\\workspace\\images\\collectedimages\\cardboard\\cardboard.47de07bb-6b69-11ee-b920-0093378aa2d3.jpg -> Annotation:C:/Users/tanma/Me/MyFiles/Projects/Object Detection/TFODCourse/Tensorflow/workspace/images/collectedimages/cardboard\\cardboard.47de07bb-6b69-11ee-b920-0093378aa2d3.xml\n",
      "Image:C:\\Users\\tanma\\Me\\MyFiles\\Projects\\Object Detection\\TFODCourse\\Tensorflow\\workspace\\images\\collectedimages\\cardboard\\cardboard.43105af5-6b69-11ee-a69e-0093378aa2d3.jpg -> Annotation:C:/Users/tanma/Me/MyFiles/Projects/Object Detection/TFODCourse/Tensorflow/workspace/images/collectedimages/cardboard\\cardboard.43105af5-6b69-11ee-a69e-0093378aa2d3.xml\n",
      "Image:C:\\Users\\tanma\\Me\\MyFiles\\Projects\\Object Detection\\TFODCourse\\Tensorflow\\workspace\\images\\collectedimages\\cardboard\\cardboard.44449a0e-6b69-11ee-a11d-0093378aa2d3.jpg -> Annotation:C:/Users/tanma/Me/MyFiles/Projects/Object Detection/TFODCourse/Tensorflow/workspace/images/collectedimages/cardboard\\cardboard.44449a0e-6b69-11ee-a11d-0093378aa2d3.xml\n",
      "Image:C:\\Users\\tanma\\Me\\MyFiles\\Projects\\Object Detection\\TFODCourse\\Tensorflow\\workspace\\images\\collectedimages\\cardboard\\cardboard.45771959-6b69-11ee-928c-0093378aa2d3.jpg -> Annotation:C:/Users/tanma/Me/MyFiles/Projects/Object Detection/TFODCourse/Tensorflow/workspace/images/collectedimages/cardboard\\cardboard.45771959-6b69-11ee-928c-0093378aa2d3.xml\n",
      "Image:C:\\Users\\tanma\\Me\\MyFiles\\Projects\\Object Detection\\TFODCourse\\Tensorflow\\workspace\\images\\collectedimages\\cardboard\\cardboard.49111857-6b69-11ee-92c1-0093378aa2d3.jpg -> Annotation:C:/Users/tanma/Me/MyFiles/Projects/Object Detection/TFODCourse/Tensorflow/workspace/images/collectedimages/cardboard\\cardboard.49111857-6b69-11ee-92c1-0093378aa2d3.xml\n"
     ]
    }
   ],
   "source": [
    "!cd {LABELIMG_PATH} && python labelImg.py"
   ]
  },
  {
   "cell_type": "markdown",
   "metadata": {},
   "source": [
    "# 6. Move them into a Training and Testing Partition"
   ]
  },
  {
   "cell_type": "markdown",
   "metadata": {},
   "source": [
    "# OPTIONAL - 7. Compress them for Colab Training"
   ]
  },
  {
   "cell_type": "code",
   "execution_count": 20,
   "metadata": {},
   "outputs": [],
   "source": [
    "TRAIN_PATH = os.path.join('Tensorflow', 'workspace', 'images', 'train')\n",
    "TEST_PATH = os.path.join('Tensorflow', 'workspace', 'images', 'test')\n",
    "ARCHIVE_PATH = os.path.join('Tensorflow', 'workspace', 'images', 'archive.tar.gz')"
   ]
  },
  {
   "cell_type": "code",
   "execution_count": 21,
   "metadata": {},
   "outputs": [],
   "source": [
    "!tar -czf {ARCHIVE_PATH} {TRAIN_PATH} {TEST_PATH}"
   ]
  },
  {
   "cell_type": "code",
   "execution_count": null,
   "metadata": {},
   "outputs": [],
   "source": []
  }
 ],
 "metadata": {
  "kernelspec": {
   "display_name": "venv",
   "language": "python",
   "name": "venv"
  },
  "language_info": {
   "codemirror_mode": {
    "name": "ipython",
    "version": 3
   },
   "file_extension": ".py",
   "mimetype": "text/x-python",
   "name": "python",
   "nbconvert_exporter": "python",
   "pygments_lexer": "ipython3",
   "version": "3.11.4"
  }
 },
 "nbformat": 4,
 "nbformat_minor": 4
}
